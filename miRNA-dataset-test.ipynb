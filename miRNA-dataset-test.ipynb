{
 "cells": [
  {
   "cell_type": "code",
   "execution_count": 1,
   "id": "initial_id",
   "metadata": {
    "ExecuteTime": {
     "end_time": "2024-08-09T20:34:39.999008Z",
     "start_time": "2024-08-09T20:34:38.975374Z"
    },
    "collapsed": true
   },
   "outputs": [],
   "source": [
    "import pandas as pd\n",
    "from tdc.multi_pred import MTI"
   ]
  },
  {
   "cell_type": "code",
   "execution_count": 2,
   "id": "58c80ae9bd81c251",
   "metadata": {
    "ExecuteTime": {
     "end_time": "2024-08-09T20:34:41.270707Z",
     "start_time": "2024-08-09T20:34:39.999975Z"
    }
   },
   "outputs": [
    {
     "name": "stderr",
     "output_type": "stream",
     "text": [
      "Found local copy...\n",
      "Loading...\n",
      "Done!\n"
     ]
    }
   ],
   "source": [
    "data = MTI(name = 'miRTarBase')\n",
    "split = data.get_split()"
   ]
  },
  {
   "cell_type": "code",
   "execution_count": 3,
   "id": "c2896400a5da38c4",
   "metadata": {
    "ExecuteTime": {
     "end_time": "2024-08-09T20:34:41.275701Z",
     "start_time": "2024-08-09T20:34:41.271492Z"
    }
   },
   "outputs": [],
   "source": [
    "df = pd.concat([split['train'], split['test']])"
   ]
  },
  {
   "cell_type": "code",
   "execution_count": 4,
   "id": "65560c9f67fa6f4e",
   "metadata": {
    "ExecuteTime": {
     "end_time": "2024-08-09T20:34:41.281843Z",
     "start_time": "2024-08-09T20:34:41.276441Z"
    }
   },
   "outputs": [
    {
     "data": {
      "text/html": [
       "<div>\n",
       "<style scoped>\n",
       "    .dataframe tbody tr th:only-of-type {\n",
       "        vertical-align: middle;\n",
       "    }\n",
       "\n",
       "    .dataframe tbody tr th {\n",
       "        vertical-align: top;\n",
       "    }\n",
       "\n",
       "    .dataframe thead th {\n",
       "        text-align: right;\n",
       "    }\n",
       "</style>\n",
       "<table border=\"1\" class=\"dataframe\">\n",
       "  <thead>\n",
       "    <tr style=\"text-align: right;\">\n",
       "      <th></th>\n",
       "      <th>miRNA_ID</th>\n",
       "      <th>miRNA</th>\n",
       "      <th>Target_ID</th>\n",
       "      <th>Target</th>\n",
       "      <th>Y</th>\n",
       "    </tr>\n",
       "  </thead>\n",
       "  <tbody>\n",
       "    <tr>\n",
       "      <th>0</th>\n",
       "      <td>ath-miR398c-3p</td>\n",
       "      <td>UGUGUUCUCAGGUCACCCCUG</td>\n",
       "      <td>817365</td>\n",
       "      <td>MAATNTILAFSSPSRLLIPPSSNPSTLRSSFRGVSLNNNNLHRLQS...</td>\n",
       "      <td>1</td>\n",
       "    </tr>\n",
       "    <tr>\n",
       "      <th>1</th>\n",
       "      <td>ath-miR398b-3p</td>\n",
       "      <td>UGUGUUCUCAGGUCACCCCUG</td>\n",
       "      <td>817365</td>\n",
       "      <td>MAATNTILAFSSPSRLLIPPSSNPSTLRSSFRGVSLNNNNLHRLQS...</td>\n",
       "      <td>1</td>\n",
       "    </tr>\n",
       "    <tr>\n",
       "      <th>2</th>\n",
       "      <td>ath-miR398b-3p</td>\n",
       "      <td>UGUGUUCUCAGGUCACCCCUG</td>\n",
       "      <td>837405</td>\n",
       "      <td>MAKGVAVLNSSEGVTGTIFFTQEGDGVTTVSGTVSGLKPGLHGFHV...</td>\n",
       "      <td>1</td>\n",
       "    </tr>\n",
       "    <tr>\n",
       "      <th>3</th>\n",
       "      <td>ath-miR398a-3p</td>\n",
       "      <td>UGUGUUCUCAGGUCACCCCUU</td>\n",
       "      <td>817365</td>\n",
       "      <td>MAATNTILAFSSPSRLLIPPSSNPSTLRSSFRGVSLNNNNLHRLQS...</td>\n",
       "      <td>1</td>\n",
       "    </tr>\n",
       "    <tr>\n",
       "      <th>4</th>\n",
       "      <td>ath-miR398a-3p</td>\n",
       "      <td>UGUGUUCUCAGGUCACCCCUU</td>\n",
       "      <td>837405</td>\n",
       "      <td>MAKGVAVLNSSEGVTGTIFFTQEGDGVTTVSGTVSGLKPGLHGFHV...</td>\n",
       "      <td>1</td>\n",
       "    </tr>\n",
       "    <tr>\n",
       "      <th>...</th>\n",
       "      <td>...</td>\n",
       "      <td>...</td>\n",
       "      <td>...</td>\n",
       "      <td>...</td>\n",
       "      <td>...</td>\n",
       "    </tr>\n",
       "    <tr>\n",
       "      <th>80011</th>\n",
       "      <td>hsa-miR-373-3p</td>\n",
       "      <td>GAAGUGCUUCGAUUUUGGGGUGU</td>\n",
       "      <td>10152</td>\n",
       "      <td>MAELQMLLEEEIPGGRRALFDSYTNLERVADYCENNYIQSADKQRA...</td>\n",
       "      <td>1</td>\n",
       "    </tr>\n",
       "    <tr>\n",
       "      <th>80012</th>\n",
       "      <td>hsa-let-7b-5p</td>\n",
       "      <td>UGAGGUAGUAGGUUGUGUGGUU</td>\n",
       "      <td>10594</td>\n",
       "      <td>MAGVFPYRGPGNPVPGPLAPLPDYMSEEKLQEKARKWQQLQAKRYA...</td>\n",
       "      <td>1</td>\n",
       "    </tr>\n",
       "    <tr>\n",
       "      <th>80013</th>\n",
       "      <td>hsa-miR-186-5p</td>\n",
       "      <td>CAAAGAAUUCUCCUUUUGGGCU</td>\n",
       "      <td>147949</td>\n",
       "      <td>MSKDLVTFGDVAVNFSQEEWEWLNPAQRNLYRKVMLENYRSLVSLG...</td>\n",
       "      <td>1</td>\n",
       "    </tr>\n",
       "    <tr>\n",
       "      <th>80014</th>\n",
       "      <td>hsa-miR-93-3p</td>\n",
       "      <td>ACUGCUGAGCUAGCACUUCCCG</td>\n",
       "      <td>55124</td>\n",
       "      <td>MDPFRPSFRGQSPIHPSQCQAVRMPGCWPQASKPLDPALGRGAPAG...</td>\n",
       "      <td>1</td>\n",
       "    </tr>\n",
       "    <tr>\n",
       "      <th>80015</th>\n",
       "      <td>mmu-miR-190a-5p</td>\n",
       "      <td>UGAUAUGUUUGAUAUAUUAGGU</td>\n",
       "      <td>208922</td>\n",
       "      <td>MQDDLLMDKSKTQPQSQQQQRQQQQQQQQLQPEPGAAEAPSTPLSS...</td>\n",
       "      <td>1</td>\n",
       "    </tr>\n",
       "  </tbody>\n",
       "</table>\n",
       "<p>360074 rows × 5 columns</p>\n",
       "</div>"
      ],
      "text/plain": [
       "              miRNA_ID                    miRNA  Target_ID  \\\n",
       "0       ath-miR398c-3p    UGUGUUCUCAGGUCACCCCUG     817365   \n",
       "1       ath-miR398b-3p    UGUGUUCUCAGGUCACCCCUG     817365   \n",
       "2       ath-miR398b-3p    UGUGUUCUCAGGUCACCCCUG     837405   \n",
       "3       ath-miR398a-3p    UGUGUUCUCAGGUCACCCCUU     817365   \n",
       "4       ath-miR398a-3p    UGUGUUCUCAGGUCACCCCUU     837405   \n",
       "...                ...                      ...        ...   \n",
       "80011   hsa-miR-373-3p  GAAGUGCUUCGAUUUUGGGGUGU      10152   \n",
       "80012    hsa-let-7b-5p   UGAGGUAGUAGGUUGUGUGGUU      10594   \n",
       "80013   hsa-miR-186-5p   CAAAGAAUUCUCCUUUUGGGCU     147949   \n",
       "80014    hsa-miR-93-3p   ACUGCUGAGCUAGCACUUCCCG      55124   \n",
       "80015  mmu-miR-190a-5p   UGAUAUGUUUGAUAUAUUAGGU     208922   \n",
       "\n",
       "                                                  Target  Y  \n",
       "0      MAATNTILAFSSPSRLLIPPSSNPSTLRSSFRGVSLNNNNLHRLQS...  1  \n",
       "1      MAATNTILAFSSPSRLLIPPSSNPSTLRSSFRGVSLNNNNLHRLQS...  1  \n",
       "2      MAKGVAVLNSSEGVTGTIFFTQEGDGVTTVSGTVSGLKPGLHGFHV...  1  \n",
       "3      MAATNTILAFSSPSRLLIPPSSNPSTLRSSFRGVSLNNNNLHRLQS...  1  \n",
       "4      MAKGVAVLNSSEGVTGTIFFTQEGDGVTTVSGTVSGLKPGLHGFHV...  1  \n",
       "...                                                  ... ..  \n",
       "80011  MAELQMLLEEEIPGGRRALFDSYTNLERVADYCENNYIQSADKQRA...  1  \n",
       "80012  MAGVFPYRGPGNPVPGPLAPLPDYMSEEKLQEKARKWQQLQAKRYA...  1  \n",
       "80013  MSKDLVTFGDVAVNFSQEEWEWLNPAQRNLYRKVMLENYRSLVSLG...  1  \n",
       "80014  MDPFRPSFRGQSPIHPSQCQAVRMPGCWPQASKPLDPALGRGAPAG...  1  \n",
       "80015  MQDDLLMDKSKTQPQSQQQQRQQQQQQQQLQPEPGAAEAPSTPLSS...  1  \n",
       "\n",
       "[360074 rows x 5 columns]"
      ]
     },
     "execution_count": 4,
     "metadata": {},
     "output_type": "execute_result"
    }
   ],
   "source": [
    "df"
   ]
  },
  {
   "cell_type": "code",
   "execution_count": 5,
   "id": "f7a7994c5309491b",
   "metadata": {
    "ExecuteTime": {
     "end_time": "2024-08-09T22:07:00.174709Z",
     "start_time": "2024-08-09T22:06:59.996283Z"
    }
   },
   "outputs": [
    {
     "name": "stdout",
     "output_type": "stream",
     "text": [
      "miRNA lengths -  16 28\n",
      "Target lengths -  24 34350\n"
     ]
    }
   ],
   "source": [
    "print(\"miRNA lengths - \", df.miRNA.str.len().min(), df.miRNA.str.len().max())\n",
    "print(\"Target lengths - \", df.Target.str.len().min(), df.Target.str.len().max())"
   ]
  },
  {
   "cell_type": "code",
   "execution_count": 10,
   "id": "4bfb8d64b19d99bf",
   "metadata": {
    "ExecuteTime": {
     "end_time": "2024-08-06T15:35:25.281969Z",
     "start_time": "2024-08-06T15:35:25.179874Z"
    }
   },
   "outputs": [
    {
     "data": {
      "text/plain": [
       "miRNA\n",
       "UCAAGAGCAAUAACGAAAAAUGU    2229\n",
       "UUCAAGUAAUUCAGGAUAGGU      1667\n",
       "UAGCAGCACGUAAAUAUUGGCG     1418\n",
       "CAAAGUGCUUACAGUGCAGGUAG    1370\n",
       "UGAGGUAGUAGGUUGUGUGGUU     1349\n",
       "                           ... \n",
       "UUGGUCCCCUUCAACCAGCUGU        1\n",
       "UUGGUUACCCAUAUGGCCAUC         1\n",
       "UUGUAUUUGUGUGAUUAAAGU         1\n",
       "UUGUGCUUGAUCUAACCAUGUG        1\n",
       "UUUCGAGACCACUCUAAUCCAUU       1\n",
       "Length: 3452, dtype: int64"
      ]
     },
     "execution_count": 10,
     "metadata": {},
     "output_type": "execute_result"
    }
   ],
   "source": [
    "df.groupby('miRNA').apply(lambda x: x.Target.count()).sort_values(ascending=False)"
   ]
  },
  {
   "cell_type": "code",
   "execution_count": 11,
   "id": "183c8b0a5c436c69",
   "metadata": {
    "ExecuteTime": {
     "end_time": "2024-08-06T15:35:26.381675Z",
     "start_time": "2024-08-06T15:35:26.376281Z"
    }
   },
   "outputs": [
    {
     "data": {
      "text/plain": [
       "'MIEDTMTLLSLLGRIMRYFLLRPETLFLLCISLALWSYFFHTDEVKTIVKSSRDAVKMVKGKVAEIMQNDRLGGLDVLEAEFSKTWEFKNHNVAVYSIQGRRDHMEDRFEVLTDLANKTHPSIFGIFDGHGGETAAEYVKSRLPEALKQHLQDYEKDKENSVLSYQTILEQQILSIDREMLEKLTVSYDEAGTTCLIALLSDKDLTVANVGDSRGVLCDKDGNAIPLSHDHKPYQLKERKRIKRAGGFISFNGSWRVQGILAMSRSLGDYPLKNLNVVIPDPDILTFDLDKLQPEFMILASDGLWDAFSNEEAVRFIKERLDEPHFGAKSIVLQSFYRGCPDNITVMVVKFRNSSKTEEQ'"
      ]
     },
     "execution_count": 11,
     "metadata": {},
     "output_type": "execute_result"
    }
   ],
   "source": [
    "df.sample(1).Target.values[0]"
   ]
  },
  {
   "cell_type": "code",
   "execution_count": 12,
   "id": "efc7116fa3355c13",
   "metadata": {
    "ExecuteTime": {
     "end_time": "2024-08-06T15:35:28.112657Z",
     "start_time": "2024-08-06T15:35:28.109132Z"
    }
   },
   "outputs": [
    {
     "data": {
      "text/plain": [
       "Y\n",
       "1    360074\n",
       "Name: count, dtype: int64"
      ]
     },
     "execution_count": 12,
     "metadata": {},
     "output_type": "execute_result"
    }
   ],
   "source": [
    "df.Y.value_counts()"
   ]
  },
  {
   "cell_type": "code",
   "execution_count": 6,
   "id": "652c01335833bd4f",
   "metadata": {
    "ExecuteTime": {
     "end_time": "2024-08-08T18:04:46.021263Z",
     "start_time": "2024-08-08T18:04:43.669013Z"
    }
   },
   "outputs": [],
   "source": [
    "split = data.neg_sample(frac=1).get_split()"
   ]
  },
  {
   "cell_type": "code",
   "execution_count": 7,
   "id": "3901ee460218a3f1",
   "metadata": {
    "ExecuteTime": {
     "end_time": "2024-08-08T18:04:46.033564Z",
     "start_time": "2024-08-08T18:04:46.022225Z"
    }
   },
   "outputs": [
    {
     "data": {
      "text/html": [
       "<div>\n",
       "<style scoped>\n",
       "    .dataframe tbody tr th:only-of-type {\n",
       "        vertical-align: middle;\n",
       "    }\n",
       "\n",
       "    .dataframe tbody tr th {\n",
       "        vertical-align: top;\n",
       "    }\n",
       "\n",
       "    .dataframe thead th {\n",
       "        text-align: right;\n",
       "    }\n",
       "</style>\n",
       "<table border=\"1\" class=\"dataframe\">\n",
       "  <thead>\n",
       "    <tr style=\"text-align: right;\">\n",
       "      <th></th>\n",
       "      <th>miRNA_ID</th>\n",
       "      <th>miRNA</th>\n",
       "      <th>Target_ID</th>\n",
       "      <th>Target</th>\n",
       "      <th>Y</th>\n",
       "    </tr>\n",
       "  </thead>\n",
       "  <tbody>\n",
       "    <tr>\n",
       "      <th>0</th>\n",
       "      <td>ath-miR398c-3p</td>\n",
       "      <td>UGUGUUCUCAGGUCACCCCUG</td>\n",
       "      <td>817365</td>\n",
       "      <td>MAATNTILAFSSPSRLLIPPSSNPSTLRSSFRGVSLNNNNLHRLQS...</td>\n",
       "      <td>1</td>\n",
       "    </tr>\n",
       "    <tr>\n",
       "      <th>1</th>\n",
       "      <td>ath-miR398b-3p</td>\n",
       "      <td>UGUGUUCUCAGGUCACCCCUG</td>\n",
       "      <td>817365</td>\n",
       "      <td>MAATNTILAFSSPSRLLIPPSSNPSTLRSSFRGVSLNNNNLHRLQS...</td>\n",
       "      <td>1</td>\n",
       "    </tr>\n",
       "    <tr>\n",
       "      <th>2</th>\n",
       "      <td>ath-miR398c-3p</td>\n",
       "      <td>UGUGUUCUCAGGUCACCCCUG</td>\n",
       "      <td>837405</td>\n",
       "      <td>MAKGVAVLNSSEGVTGTIFFTQEGDGVTTVSGTVSGLKPGLHGFHV...</td>\n",
       "      <td>1</td>\n",
       "    </tr>\n",
       "    <tr>\n",
       "      <th>3</th>\n",
       "      <td>ath-miR398b-3p</td>\n",
       "      <td>UGUGUUCUCAGGUCACCCCUG</td>\n",
       "      <td>837405</td>\n",
       "      <td>MAKGVAVLNSSEGVTGTIFFTQEGDGVTTVSGTVSGLKPGLHGFHV...</td>\n",
       "      <td>1</td>\n",
       "    </tr>\n",
       "    <tr>\n",
       "      <th>4</th>\n",
       "      <td>ath-miR398a-3p</td>\n",
       "      <td>UGUGUUCUCAGGUCACCCCUU</td>\n",
       "      <td>817365</td>\n",
       "      <td>MAATNTILAFSSPSRLLIPPSSNPSTLRSSFRGVSLNNNNLHRLQS...</td>\n",
       "      <td>1</td>\n",
       "    </tr>\n",
       "    <tr>\n",
       "      <th>...</th>\n",
       "      <td>...</td>\n",
       "      <td>...</td>\n",
       "      <td>...</td>\n",
       "      <td>...</td>\n",
       "      <td>...</td>\n",
       "    </tr>\n",
       "    <tr>\n",
       "      <th>160028</th>\n",
       "      <td>hsa-miR-4279</td>\n",
       "      <td>CUCUCCUCCCGGCUUC</td>\n",
       "      <td>56142</td>\n",
       "      <td>MVFTPEDRLGKQCLLLPLLLLAAWKVGSGQLHYSVPEEAKHGTFVG...</td>\n",
       "      <td>1</td>\n",
       "    </tr>\n",
       "    <tr>\n",
       "      <th>160029</th>\n",
       "      <td>hsa-miR-6715b-3p</td>\n",
       "      <td>CUCAAACCGGCUGUGCCUGUGG</td>\n",
       "      <td>66853</td>\n",
       "      <td>MFPRETKWNISFAGCGFLGVYHIGVASCLREHAPFLVANATHIYGA...</td>\n",
       "      <td>0</td>\n",
       "    </tr>\n",
       "    <tr>\n",
       "      <th>160030</th>\n",
       "      <td>hsa-miR-548ac</td>\n",
       "      <td>CAAAAACCGGCAAUUACUUUUG</td>\n",
       "      <td>5534</td>\n",
       "      <td>MGNEASYPLEMCSHFDADEIKRLGKRFKKLDLDNSGSLSVEEFMSL...</td>\n",
       "      <td>1</td>\n",
       "    </tr>\n",
       "    <tr>\n",
       "      <th>160031</th>\n",
       "      <td>mmu-miR-34b-5p</td>\n",
       "      <td>AGGCAGUGUAAUUAGCUGAUUGU</td>\n",
       "      <td>53602</td>\n",
       "      <td>MGKQNSKLRPEVLQDLREHTEFTDHELQEWYKGFLKDCPTGHLTVD...</td>\n",
       "      <td>1</td>\n",
       "    </tr>\n",
       "    <tr>\n",
       "      <th>160032</th>\n",
       "      <td>hsa-miR-331-3p</td>\n",
       "      <td>GCCCCUGGGCCUAUCCUAGAA</td>\n",
       "      <td>5704</td>\n",
       "      <td>MEEIGILVEKAQDEIPALSVSRPQTGLSFLGPEPEDLEDLYSRYKK...</td>\n",
       "      <td>1</td>\n",
       "    </tr>\n",
       "  </tbody>\n",
       "</table>\n",
       "<p>720148 rows × 5 columns</p>\n",
       "</div>"
      ],
      "text/plain": [
       "                miRNA_ID                    miRNA Target_ID  \\\n",
       "0         ath-miR398c-3p    UGUGUUCUCAGGUCACCCCUG    817365   \n",
       "1         ath-miR398b-3p    UGUGUUCUCAGGUCACCCCUG    817365   \n",
       "2         ath-miR398c-3p    UGUGUUCUCAGGUCACCCCUG    837405   \n",
       "3         ath-miR398b-3p    UGUGUUCUCAGGUCACCCCUG    837405   \n",
       "4         ath-miR398a-3p    UGUGUUCUCAGGUCACCCCUU    817365   \n",
       "...                  ...                      ...       ...   \n",
       "160028      hsa-miR-4279         CUCUCCUCCCGGCUUC     56142   \n",
       "160029  hsa-miR-6715b-3p   CUCAAACCGGCUGUGCCUGUGG     66853   \n",
       "160030     hsa-miR-548ac   CAAAAACCGGCAAUUACUUUUG      5534   \n",
       "160031    mmu-miR-34b-5p  AGGCAGUGUAAUUAGCUGAUUGU     53602   \n",
       "160032    hsa-miR-331-3p    GCCCCUGGGCCUAUCCUAGAA      5704   \n",
       "\n",
       "                                                   Target  Y  \n",
       "0       MAATNTILAFSSPSRLLIPPSSNPSTLRSSFRGVSLNNNNLHRLQS...  1  \n",
       "1       MAATNTILAFSSPSRLLIPPSSNPSTLRSSFRGVSLNNNNLHRLQS...  1  \n",
       "2       MAKGVAVLNSSEGVTGTIFFTQEGDGVTTVSGTVSGLKPGLHGFHV...  1  \n",
       "3       MAKGVAVLNSSEGVTGTIFFTQEGDGVTTVSGTVSGLKPGLHGFHV...  1  \n",
       "4       MAATNTILAFSSPSRLLIPPSSNPSTLRSSFRGVSLNNNNLHRLQS...  1  \n",
       "...                                                   ... ..  \n",
       "160028  MVFTPEDRLGKQCLLLPLLLLAAWKVGSGQLHYSVPEEAKHGTFVG...  1  \n",
       "160029  MFPRETKWNISFAGCGFLGVYHIGVASCLREHAPFLVANATHIYGA...  0  \n",
       "160030  MGNEASYPLEMCSHFDADEIKRLGKRFKKLDLDNSGSLSVEEFMSL...  1  \n",
       "160031  MGKQNSKLRPEVLQDLREHTEFTDHELQEWYKGFLKDCPTGHLTVD...  1  \n",
       "160032  MEEIGILVEKAQDEIPALSVSRPQTGLSFLGPEPEDLEDLYSRYKK...  1  \n",
       "\n",
       "[720148 rows x 5 columns]"
      ]
     },
     "execution_count": 7,
     "metadata": {},
     "output_type": "execute_result"
    }
   ],
   "source": [
    "df_2 = pd.concat([split['train'], split['test']])\n",
    "df_2"
   ]
  },
  {
   "cell_type": "code",
   "execution_count": 8,
   "id": "af6cfe53f32c21aa",
   "metadata": {
    "ExecuteTime": {
     "end_time": "2024-08-08T18:04:58.392780Z",
     "start_time": "2024-08-08T18:04:58.387886Z"
    }
   },
   "outputs": [
    {
     "data": {
      "text/plain": [
       "Y\n",
       "0    360084\n",
       "1    360064\n",
       "Name: count, dtype: int64"
      ]
     },
     "execution_count": 8,
     "metadata": {},
     "output_type": "execute_result"
    }
   ],
   "source": [
    "df_2.Y.value_counts()"
   ]
  },
  {
   "cell_type": "code",
   "execution_count": 20,
   "id": "234624cbf61bf6e5",
   "metadata": {
    "ExecuteTime": {
     "end_time": "2024-08-06T15:37:18.927026Z",
     "start_time": "2024-08-06T15:37:18.880198Z"
    }
   },
   "outputs": [
    {
     "data": {
      "text/plain": [
       "Target\n",
       "34350      2\n",
       "8799       4\n",
       "8797       6\n",
       "8384       2\n",
       "8081       1\n",
       "        ... \n",
       "44        31\n",
       "43         5\n",
       "28        17\n",
       "25        83\n",
       "24       249\n",
       "Name: count, Length: 2219, dtype: int64"
      ]
     },
     "execution_count": 20,
     "metadata": {},
     "output_type": "execute_result"
    }
   ],
   "source": [
    "df.Target.str.len().value_counts().sort_index(ascending=False)"
   ]
  },
  {
   "cell_type": "code",
   "execution_count": 5,
   "id": "ae55ded846a22dd0",
   "metadata": {
    "ExecuteTime": {
     "end_time": "2024-08-08T18:04:40.266117Z",
     "start_time": "2024-08-08T18:04:38.651177Z"
    }
   },
   "outputs": [],
   "source": [
    "df.to_csv('data/miRNA-Target.csv')"
   ]
  },
  {
   "cell_type": "code",
   "execution_count": 10,
   "id": "c5c48262794236c5",
   "metadata": {
    "ExecuteTime": {
     "end_time": "2024-08-08T18:05:18.059257Z",
     "start_time": "2024-08-08T18:05:14.822303Z"
    }
   },
   "outputs": [],
   "source": [
    "df_2.to_csv('data/miRNA-Target_Negative.csv')"
   ]
  },
  {
   "cell_type": "code",
   "execution_count": null,
   "id": "2f666fad5d8a671f",
   "metadata": {},
   "outputs": [],
   "source": []
  }
 ],
 "metadata": {
  "kernelspec": {
   "display_name": "Python 3",
   "language": "python",
   "name": "python3"
  },
  "language_info": {
   "codemirror_mode": {
    "name": "ipython",
    "version": 2
   },
   "file_extension": ".py",
   "mimetype": "text/x-python",
   "name": "python",
   "nbconvert_exporter": "python",
   "pygments_lexer": "ipython2",
   "version": "2.7.6"
  }
 },
 "nbformat": 4,
 "nbformat_minor": 5
}
